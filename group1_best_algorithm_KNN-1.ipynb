{
 "cells": [
  {
   "cell_type": "markdown",
   "metadata": {},
   "source": [
    "## Load Libraries"
   ]
  },
  {
   "cell_type": "code",
   "execution_count": 1,
   "metadata": {
    "ExecuteTime": {
     "end_time": "2019-11-08T07:22:24.716280Z",
     "start_time": "2019-11-08T07:22:23.217556Z"
    }
   },
   "outputs": [],
   "source": [
    "import os,glob\n",
    "from skimage import io,transform\n",
    "import numpy as np\n",
    "import matplotlib.pyplot as plt\n",
    "import itertools\n",
    "import math\n",
    "import numpy as np\n",
    "import re\n",
    "from time import time\n",
    "from sklearn.decomposition import IncrementalPCA\n",
    "from skimage.color import rgb2gray\n",
    "from sklearn.metrics import classification_report\n",
    "%matplotlib inline"
   ]
  },
  {
   "cell_type": "code",
   "execution_count": 2,
   "metadata": {
    "ExecuteTime": {
     "end_time": "2019-11-08T07:22:28.481118Z",
     "start_time": "2019-11-08T07:22:28.477129Z"
    }
   },
   "outputs": [],
   "source": [
    "symbols=' prbnkqPRBNKQ' #piece symbols"
   ]
  },
  {
   "cell_type": "code",
   "execution_count": 3,
   "metadata": {
    "ExecuteTime": {
     "end_time": "2019-11-08T07:22:29.527863Z",
     "start_time": "2019-11-08T07:22:29.516310Z"
    },
    "code_folding": []
   },
   "outputs": [],
   "source": [
    "#To reduct problem complexity, \n",
    "#we turn the problem into pieces type classification \n",
    "#through dividing chess borad into 64 lattices \n",
    "def seg_image(img,label):\n",
    "    label=label.replace('-','')\n",
    "    subimg=list()\n",
    "    sublabel=list()\n",
    "    for char in label:\n",
    "        if char.isdigit():\n",
    "            for _ in range(int(char)):\n",
    "                encoder=symbols.index(' ')\n",
    "                sublabel.append(encoder)\n",
    "        else:\n",
    "            encoder=symbols.index(char)\n",
    "            sublabel.append(encoder)\n",
    "    for idx_i,i in enumerate(range(0,200,25)):\n",
    "        for idx_j,j in enumerate(range(0,200,25)):\n",
    "            subimg.append(img[i:i+25,j:j+25])\n",
    "    return subimg,sublabel"
   ]
  },
  {
   "cell_type": "code",
   "execution_count": 4,
   "metadata": {
    "ExecuteTime": {
     "end_time": "2019-11-08T07:22:30.336770Z",
     "start_time": "2019-11-08T07:22:30.332744Z"
    }
   },
   "outputs": [],
   "source": [
    "train_path =\"./chess/dataset/train/*.jpeg\"\n",
    "test_path =\"./chess/dataset/test/*.jpeg\""
   ]
  },
  {
   "cell_type": "markdown",
   "metadata": {},
   "source": [
    "## Split dataset"
   ]
  },
  {
   "cell_type": "code",
   "execution_count": 5,
   "metadata": {
    "ExecuteTime": {
     "end_time": "2019-11-08T07:22:31.758719Z",
     "start_time": "2019-11-08T07:22:31.195955Z"
    }
   },
   "outputs": [],
   "source": [
    "fns=glob.glob(train_path)\n",
    "np.random.shuffle(fns)# shuffle train data\n",
    "train_fn=fns[0:4000]# 4000 samples\n",
    "val_fn=fns[4000:6000]#2000 samples\n",
    "test_fn=glob.glob(test_path)\n",
    "np.random.shuffle(test_fn)\n",
    "test_fn=test_fn[:4000]#4000 samples"
   ]
  },
  {
   "cell_type": "markdown",
   "metadata": {},
   "source": [
    "## Data pre-processing"
   ]
  },
  {
   "cell_type": "code",
   "execution_count": 6,
   "metadata": {
    "ExecuteTime": {
     "end_time": "2019-11-08T07:22:32.616664Z",
     "start_time": "2019-11-08T07:22:32.604954Z"
    },
    "code_folding": []
   },
   "outputs": [],
   "source": [
    "def callbackfn(x):\n",
    "    x=transform.rescale(io.imread(x),0.5,multichannel=True) #rescale images to 200x200\n",
    "    x=rgb2gray(x) #convert RGB images to gray\n",
    "    x=x/255 #normalize matrix \n",
    "    return x\n",
    "#we make use of generator to save memory to avoid memory error\n",
    "train_images=(x for x in io.ImageCollection(train_fn,load_func=callbackfn))\n",
    "train_labels=map(lambda x: x[22:-5],train_fn)\n",
    "val_images=(x for x in io.ImageCollection(val_fn,load_func=callbackfn))\n",
    "val_labels=map(lambda x: x[22:-5],val_fn)\n",
    "test_images=(x for x in io.ImageCollection(test_fn,load_func=callbackfn))\n",
    "test_labels=map(lambda x: x[21:-5],test_fn)"
   ]
  },
  {
   "cell_type": "code",
   "execution_count": 7,
   "metadata": {
    "ExecuteTime": {
     "end_time": "2019-11-08T07:22:33.640752Z",
     "start_time": "2019-11-08T07:22:33.628431Z"
    },
    "code_folding": [
     12
    ]
   },
   "outputs": [],
   "source": [
    "# convert list containing image into array in batch\n",
    "def get_minibatch(images,labels,batch_size,seg_func):\n",
    "    x=list()\n",
    "    y=list()\n",
    "    for image,label in zip(itertools.islice(images, batch_size),itertools.islice(labels, batch_size)):\n",
    "        subimgs,sublabels=seg_func(image,label)\n",
    "        for subimg,sublabel in zip(subimgs,sublabels):\n",
    "            x.append(subimg.reshape(subimg.shape[0]*subimg.shape[1]))\n",
    "            y.append(sublabel)\n",
    "    x=np.array(x)\n",
    "    y=np.array(y)\n",
    "    return x,y\n",
    "def get_batch(images,labels,batch_size,seg_func):\n",
    "    x,y=get_minibatch(images,labels,batch_size,seg_func)\n",
    "    while len(x):\n",
    "        yield x,y\n",
    "        x,y=get_minibatch(images,labels,batch_size,seg_func)"
   ]
  },
  {
   "cell_type": "code",
   "execution_count": 8,
   "metadata": {
    "ExecuteTime": {
     "end_time": "2019-11-08T07:22:36.098294Z",
     "start_time": "2019-11-08T07:22:36.092822Z"
    }
   },
   "outputs": [],
   "source": [
    "batch_size=2000\n",
    "train_size=len(train_fn)\n",
    "val_size=len(val_fn)\n",
    "test_size=len(test_fn)\n",
    "n_components=30"
   ]
  },
  {
   "cell_type": "code",
   "execution_count": 9,
   "metadata": {
    "ExecuteTime": {
     "end_time": "2019-11-08T07:22:37.508422Z",
     "start_time": "2019-11-08T07:22:37.499948Z"
    }
   },
   "outputs": [],
   "source": [
    "#acquire data batches\n",
    "train_bchs= get_batch(train_images,train_labels,batch_size=batch_size,seg_func=seg_image)\n",
    "val_bchs=get_batch(val_images,val_labels,batch_size=batch_size,seg_func=seg_image)\n",
    "test_bchs=get_batch(test_images,test_labels,batch_size=batch_size,seg_func=seg_image)\n",
    "x_train=np.ndarray(shape=(0,n_components))\n",
    "y_train=np.ndarray(shape=(0,),dtype=int)\n",
    "x_val=np.ndarray(shape=(0,n_components))\n",
    "y_val=np.ndarray(shape=(0,),dtype=int)\n",
    "x_test=np.ndarray(shape=(0,n_components))\n",
    "y_test=np.ndarray(shape=(0,),dtype=int)"
   ]
  },
  {
   "cell_type": "markdown",
   "metadata": {},
   "source": [
    "### Incremental PCA"
   ]
  },
  {
   "cell_type": "code",
   "execution_count": 10,
   "metadata": {
    "ExecuteTime": {
     "end_time": "2019-11-08T07:26:56.181970Z",
     "start_time": "2019-11-08T07:22:45.293523Z"
    },
    "scrolled": true
   },
   "outputs": [
    {
     "name": "stdout",
     "output_type": "stream",
     "text": [
      "Start PCA fitting...\n",
      "\n",
      "Partial fit of 2000 out of 4000.Cost:16.346176385879517s\n",
      "Partial fit of 4000 out of 4000.Cost:14.250976085662842s\n",
      "Start transforming test set...\n",
      "------------------------------------\n",
      "Partial transform of 2000 out of 4000.Cost:0.6565678119659424s\n",
      "Partial transform of 4000 out of 4000.Cost:0.6279506683349609s\n",
      "Start transforming validation set...\n",
      "------------------------------------\n",
      "Partial transform of 2000 out of 2000.Cost:16.830342769622803s\n"
     ]
    }
   ],
   "source": [
    "# we use IncrementalPCA to fit model with data in batch\n",
    "print('Start PCA fitting...\\n')\n",
    "for epoch,(_x_train_,_y_train_) in enumerate(train_bchs):\n",
    "    start=time()\n",
    "    pca=IncrementalPCA(n_components=n_components)\n",
    "    pca.partial_fit(_x_train_)\n",
    "    x_train=np.vstack((x_train, pca.transform(_x_train_)))\n",
    "    y_train=np.concatenate((y_train,_y_train_))\n",
    "    end=time()\n",
    "    print('Partial fit of {} out of {}.Cost:{}s'.format((epoch+1)*batch_size, train_size,end-start))\n",
    "print('Start transforming test set...')\n",
    "print('------------------------------------')\n",
    "for epoch,(_x_test_,_y_test_) in enumerate(test_bchs):\n",
    "    start=time()\n",
    "    x_test=np.vstack((x_test, pca.transform(_x_test_)))\n",
    "    y_test=np.concatenate((y_test,_y_test_))\n",
    "    end=time()\n",
    "    print('Partial transform of {} out of {}.Cost:{}s'.format((epoch+1)*batch_size, test_size,end-start))\n",
    "print('Start transforming validation set...')\n",
    "print('------------------------------------')\n",
    "for epoch,(_x_val_,_y_val_) in enumerate(val_bchs):\n",
    "    start=time()\n",
    "    pca=IncrementalPCA(n_components=n_components)\n",
    "    pca.partial_fit(_x_val_)\n",
    "    x_val=np.vstack((x_val, pca.transform(_x_val_)))\n",
    "    y_val=np.concatenate((y_val,_y_val_))\n",
    "    end=time()\n",
    "    print('Partial transform of {} out of {}.Cost:{}s'.format((epoch+1)*batch_size, val_size,end-start))"
   ]
  },
  {
   "cell_type": "code",
   "execution_count": 11,
   "metadata": {
    "ExecuteTime": {
     "end_time": "2019-11-08T07:26:56.215117Z",
     "start_time": "2019-11-08T07:26:56.205141Z"
    }
   },
   "outputs": [
    {
     "name": "stdout",
     "output_type": "stream",
     "text": [
      "(256000, 30) (128000, 30) (256000, 30)\n"
     ]
    }
   ],
   "source": [
    "print(x_train.shape,x_val.shape,x_test.shape)"
   ]
  },
  {
   "cell_type": "markdown",
   "metadata": {},
   "source": [
    "### Hyperparameter Tuning"
   ]
  },
  {
   "cell_type": "code",
   "execution_count": 19,
   "metadata": {
    "ExecuteTime": {
     "end_time": "2019-11-08T09:26:58.835722Z",
     "start_time": "2019-11-08T09:24:09.869139Z"
    }
   },
   "outputs": [
    {
     "name": "stdout",
     "output_type": "stream",
     "text": [
      "Fitting 3 folds for each of 19 candidates, totalling 57 fits\n"
     ]
    },
    {
     "name": "stderr",
     "output_type": "stream",
     "text": [
      "[Parallel(n_jobs=4)]: Using backend LokyBackend with 4 concurrent workers.\n",
      "[Parallel(n_jobs=4)]: Done  42 tasks      | elapsed:  1.9min\n",
      "[Parallel(n_jobs=4)]: Done  57 out of  57 | elapsed:  2.8min finished\n"
     ]
    },
    {
     "name": "stdout",
     "output_type": "stream",
     "text": [
      "best params of KNN:\n",
      " {'n_neighbors': 1}\n"
     ]
    }
   ],
   "source": [
    "#KNN\n",
    "# set parameter n_jobs as 4 to parallize, whcih means using 4 processors\n",
    "from sklearn.neighbors import KNeighborsClassifier\n",
    "from sklearn.model_selection import GridSearchCV\n",
    "start=time()\n",
    "parameters={'n_neighbors':range(1,20)}\n",
    "clf_knn=KNeighborsClassifier()\n",
    "clf_knn = GridSearchCV(clf_knn, parameters,verbose =1,n_jobs =4,cv=3)\n",
    "clf_knn.fit(x_train,y_train)"
   ]
  },
  {
   "cell_type": "code",
   "execution_count": 21,
   "metadata": {
    "ExecuteTime": {
     "end_time": "2019-11-08T10:55:00.624727Z",
     "start_time": "2019-11-08T10:55:00.620218Z"
    }
   },
   "outputs": [
    {
     "name": "stdout",
     "output_type": "stream",
     "text": [
      "best params of KNN:\n",
      " {'n_neighbors': 1}\n"
     ]
    }
   ],
   "source": [
    "print('best params of KNN:\\n', clf_knn.best_params_)"
   ]
  },
  {
   "cell_type": "markdown",
   "metadata": {},
   "source": [
    "### Evaluation "
   ]
  },
  {
   "cell_type": "code",
   "execution_count": 14,
   "metadata": {
    "ExecuteTime": {
     "end_time": "2019-11-08T07:33:28.110829Z",
     "start_time": "2019-11-08T07:33:11.436655Z"
    }
   },
   "outputs": [
    {
     "name": "stdout",
     "output_type": "stream",
     "text": [
      "Cost:1.2176694869995117s\n",
      "Cost:1.9290263652801514s\n",
      "Cost:1.6681170463562012s\n",
      "Cost:1.534250259399414s\n",
      "Cost:1.715388536453247s\n",
      "Cost:2.0825321674346924s\n",
      "Cost:1.9817161560058594s\n",
      "Cost:1.759598970413208s\n",
      "Cost:1.1989083290100098s\n",
      "Cost:1.4889986515045166s\n",
      "Average accuracy :  0.966\n",
      "Average cost time:  1.658\n"
     ]
    }
   ],
   "source": [
    "##Ten-fola cross validation\n",
    "from sklearn.neighbors import KNeighborsClassifier\n",
    "from sklearn.model_selection import KFold\n",
    "def acc_gen(predictions,label): #calculate accuracy\n",
    "    cor=0\n",
    "    for x in np.arange(0,len(predictions),64):\n",
    "        if np.mean(predictions[x:(x+64)]==label[x:(x+64)])==1:\n",
    "            cor+=1\n",
    "    return cor/(len(predictions)/64)\n",
    "kf = KFold(n_splits=10,shuffle=True)\n",
    "#Acc={'KNN':[],'RandomForest':[],'GaussianNB':[]}\n",
    "Acc={'accuracy':[],'time':[]}\n",
    "for idx_train, idx_test in kf.split(x_val):\n",
    "    start=time()\n",
    "    X_train, X_test = x_val[idx_train], x_val[idx_test]\n",
    "    Y_train, Y_test = y_val[idx_train], y_val[idx_test]\n",
    "    knn=KNeighborsClassifier(n_neighbors=1)\n",
    "    knn.fit(X_train,Y_train)\n",
    "    preds_knn=knn.predict(X_test)\n",
    "    end=time()\n",
    "    print('Cost:{}s'.format(end-start))\n",
    "    accuracy=acc_gen(preds_knn,Y_test)\n",
    "    Acc['accuracy'].append(accuracy)\n",
    "    Acc['time'].append(round(end-start,2))\n",
    "print('Average accuracy : ',np.mean(Acc['accuracy']))\n",
    "print('Average cost time: ',np.mean(Acc['time']))"
   ]
  },
  {
   "cell_type": "code",
   "execution_count": 20,
   "metadata": {
    "ExecuteTime": {
     "end_time": "2019-11-08T10:29:59.608742Z",
     "start_time": "2019-11-08T10:29:59.599526Z"
    }
   },
   "outputs": [
    {
     "data": {
      "text/plain": [
       "{'accuracy': [0.975,\n",
       "  0.955,\n",
       "  0.98,\n",
       "  0.965,\n",
       "  0.965,\n",
       "  0.965,\n",
       "  0.94,\n",
       "  0.96,\n",
       "  0.975,\n",
       "  0.98],\n",
       " 'time': [1.22, 1.93, 1.67, 1.53, 1.72, 2.08, 1.98, 1.76, 1.2, 1.49]}"
      ]
     },
     "execution_count": 20,
     "metadata": {},
     "output_type": "execute_result"
    }
   ],
   "source": [
    "Acc# Accuracy and running time of Ten-fold CV"
   ]
  },
  {
   "cell_type": "markdown",
   "metadata": {},
   "source": [
    "### Classification for test set"
   ]
  },
  {
   "cell_type": "code",
   "execution_count": 18,
   "metadata": {
    "ExecuteTime": {
     "end_time": "2019-11-08T07:37:04.881000Z",
     "start_time": "2019-11-08T07:36:41.553395Z"
    },
    "code_folding": [],
    "scrolled": true
   },
   "outputs": [
    {
     "name": "stdout",
     "output_type": "stream",
     "text": [
      "Cost:21.44062638282776s\n",
      "Accuracy: 0.987\n",
      "              precision    recall  f1-score   support\n",
      "\n",
      "                   1.00      1.00      1.00    216144\n",
      "           p       1.00      1.00      1.00      3548\n",
      "           r       1.00      1.00      1.00      3630\n",
      "           b       1.00      1.00      1.00      3477\n",
      "           n       1.00      1.00      1.00      3465\n",
      "           k       1.00      1.00      1.00      4000\n",
      "           q       1.00      0.99      0.99      1737\n",
      "           P       1.00      1.00      1.00      3678\n",
      "           R       1.00      1.00      1.00      3497\n",
      "           B       1.00      1.00      1.00      3508\n",
      "           N       1.00      1.00      1.00      3566\n",
      "           K       1.00      1.00      1.00      4000\n",
      "           Q       1.00      1.00      1.00      1750\n",
      "\n",
      "    accuracy                           1.00    256000\n",
      "   macro avg       1.00      1.00      1.00    256000\n",
      "weighted avg       1.00      1.00      1.00    256000\n",
      "\n"
     ]
    },
    {
     "data": {
      "image/png": "[encoded data removed]",
      "text/plain": [
       "<Figure size 1008x720 with 2 Axes>"
      ]
     },
     "metadata": {
      "needs_background": "light"
     },
     "output_type": "display_data"
    }
   ],
   "source": [
    "#Plot Confusion Matrix\n",
    "from sklearn.metrics import confusion_matrix\n",
    "start=time()\n",
    "knn=KNeighborsClassifier(n_neighbors=1)\n",
    "knn.fit(x_train,y_train)\n",
    "preds_knn=knn.predict(x_test)\n",
    "end=time()\n",
    "print('Cost:{}s'.format(end-start))\n",
    "accuracy=acc_gen(preds_knn,y_test)\n",
    "print('Accuracy:',accuracy)\n",
    "print(classification_report(y_test,preds_knn,target_names=[x for x in symbols]))\n",
    "cm=confusion_matrix(y_test,preds_knn)"
   ]
  },
  {
   "cell_type": "code",
   "execution_count": 22,
   "metadata": {
    "ExecuteTime": {
     "end_time": "2019-11-08T11:10:59.354844Z",
     "start_time": "2019-11-08T11:10:58.256498Z"
    }
   },
   "outputs": [
    {
     "data": {
      "image/png": "[encoded data removed]",
      "text/plain": [
       "<Figure size 1008x720 with 1 Axes>"
      ]
     },
     "metadata": {
      "needs_background": "light"
     },
     "output_type": "display_data"
    }
   ],
   "source": [
    "def plot_cm(cm):\n",
    "    plt.figure(figsize=(14,10))#set figure size\n",
    "    plt.xticks(range(13), range(13))\n",
    "    plt.yticks(range(14), range(14))\n",
    "    plt.ylabel('True label')\n",
    "    plt.xlabel('Predicted label')\n",
    "    idx = np.arange(13)\n",
    "    x, y = np.meshgrid(idx, idx)\n",
    "    for xIdx, yIdx in zip(x.flatten(), y.flatten()):\n",
    "        c = cm[xIdx][yIdx]\n",
    "        plt.text(xIdx, yIdx, c\n",
    "                 , color='red'\n",
    "                 , va='center'\n",
    "                 , ha='center'\n",
    "                 , fontsize=8)#place number in the center of each square grid\n",
    "    \n",
    "    tick_marks = np.array(range(13)) + 0.5\n",
    "    plt.gca().set_xticks(tick_marks, minor=True)\n",
    "    plt.gca().set_yticks(tick_marks, minor=True)\n",
    "    plt.grid(True, which='minor', linestyle='-')\n",
    "    plt.imshow(cm, interpolation='nearest',cmap=plt.cm.binary)\n",
    "    plt.title('Confusion Matrix')\n",
    "plot_cm(cm)"
   ]
  }
 ],
 "metadata": {
  "kernelspec": {
   "display_name": "Python 3",
   "language": "python",
   "name": "python3"
  },
  "language_info": {
   "codemirror_mode": {
    "name": "ipython",
    "version": 3
   },
   "file_extension": ".py",
   "mimetype": "text/x-python",
   "name": "python",
   "nbconvert_exporter": "python",
   "pygments_lexer": "ipython3",
   "version": "3.7.6"
  }
 },
 "nbformat": 4,
 "nbformat_minor": 4
}
